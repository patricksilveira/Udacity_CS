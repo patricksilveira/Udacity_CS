{
 "cells": [
  {
   "cell_type": "code",
   "execution_count": 17,
   "metadata": {},
   "outputs": [
    {
     "name": "stdout",
     "output_type": "stream",
     "text": [
      "[['udacity', ['http://udacity.com']]]\n",
      "[['udacity', ['http://udacity.com']], ['computing', ['http://acm.org']]]\n",
      "[['udacity', ['http://udacity.com', 'http://npr.org']], ['computing', ['http://acm.org']]]\n"
     ]
    }
   ],
   "source": [
    "# Define a procedure, add_to_index,\n",
    "# that takes 3 inputs:\n",
    "\n",
    "# - an index: [[<keyword>,[<url>,...]],...]\n",
    "# - a keyword: String\n",
    "# - a url: String\n",
    "\n",
    "# If the keyword is already\n",
    "# in the index, add the url\n",
    "# to the list of urls associated\n",
    "# with that keyword.\n",
    "\n",
    "# If the keyword is not in the index,\n",
    "# add an entry to the index: [keyword,[url]]\n",
    "\n",
    "index = []\n",
    "\n",
    "def add_to_index(index,keyword,url):\n",
    "    for entry in index: # entry is the url\n",
    "        if entry[0] == keyword:\n",
    "            entry[1].append(url)\n",
    "            return\n",
    "    index.append([keyword,[url]]) # if no keyword is  found, return add entyr\n",
    "\n",
    "#why: structure: index[keyword[url]]\n",
    "#entry[0] in index is list [keyword[url]]\n",
    "#entry[1] in index is the keyword.\n",
    "\n",
    "\n",
    "\n",
    "add_to_index(index,'udacity','http://udacity.com')\n",
    "print (index)\n",
    "add_to_index(index,'computing','http://acm.org')\n",
    "print (index)\n",
    "add_to_index(index,'udacity','http://npr.org')\n",
    "print (index)\n",
    "#>>> [['udacity', ['http://udacity.com', 'http://npr.org']], \n",
    "#>>> ['computing', ['http://acm.org']]]\n",
    "\n",
    "\n"
   ]
  },
  {
   "cell_type": "code",
   "execution_count": 23,
   "metadata": {},
   "outputs": [
    {
     "name": "stdout",
     "output_type": "stream",
     "text": [
      "['http://udacity.com', 'http://npr.org']\n"
     ]
    }
   ],
   "source": [
    "# Quiz Lookup\n",
    "\n",
    "# Define a procedure, lookup,\n",
    "# that takes two inputs:\n",
    "\n",
    "# - an index\n",
    "# - keyword\n",
    "\n",
    "# The procedure should return a list\n",
    "# of the urls associated\n",
    "# with the keyword. If the keyword\n",
    "# is not in the index, the procedure\n",
    "# should return an empty list.\n",
    "\n",
    "index = [['udacity', ['http://udacity.com', 'http://npr.org']],\n",
    "         ['computing', ['http://acm.org']]]\n",
    "\n",
    "def lookup(index,keyword):\n",
    "    for entry in index:\n",
    "        if entry[0] == keyword:\n",
    "            return entry[1]\n",
    "    return []\n",
    "\n",
    "\n",
    "\n",
    "\n",
    "\n",
    "print (lookup(index,'udacity'))\n",
    "#>>> ['http://udacity.com','http://npr.org']"
   ]
  },
  {
   "cell_type": "code",
   "execution_count": 29,
   "metadata": {},
   "outputs": [
    {
     "name": "stdout",
     "output_type": "stream",
     "text": [
      "['This', 'is', 'a', 'test']\n"
     ]
    }
   ],
   "source": [
    "# Add to Page index\n",
    "# Define a procedure, add_page_to_index,\n",
    "# that takes three inputs:\n",
    "\n",
    "#   - index\n",
    "#   - url (String)\n",
    "#   - content (String)\n",
    "\n",
    "# It should update the index to include\n",
    "# all of the word occurences found in the\n",
    "# page content by adding the url to the\n",
    "# word's associated url list.\n",
    "\n",
    "index = []\n",
    "\n",
    "\n",
    "def add_to_index(index,keyword,url):\n",
    "    for entry in index:\n",
    "        if entry[0] == keyword:\n",
    "            entry[1].append(url)\n",
    "            return\n",
    "    index.append([keyword,[url]])\n",
    "\n",
    "def add_page_to_index(index,url,content):\n",
    "    content.split()\n",
    "\n",
    "\n",
    "\n",
    "\n",
    "add_page_to_index(index,'fake.text',\"This is a test\")\n",
    "#print (index)\n",
    "#>>> [['This', ['fake.text']], ['is', ['fake.text']], ['a', ['fake.text']],\n",
    "#>>> ['test',['fake.text']]]\n",
    "\n",
    "\n",
    "\n"
   ]
  },
  {
   "cell_type": "code",
   "execution_count": null,
   "metadata": {},
   "outputs": [],
   "source": []
  }
 ],
 "metadata": {
  "kernelspec": {
   "display_name": "Python 3",
   "language": "python",
   "name": "python3"
  },
  "language_info": {
   "codemirror_mode": {
    "name": "ipython",
    "version": 3
   },
   "file_extension": ".py",
   "mimetype": "text/x-python",
   "name": "python",
   "nbconvert_exporter": "python",
   "pygments_lexer": "ipython3",
   "version": "3.7.1"
  }
 },
 "nbformat": 4,
 "nbformat_minor": 2
}
