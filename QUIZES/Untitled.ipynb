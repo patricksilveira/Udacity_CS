{
 "cells": [
  {
   "cell_type": "code",
   "execution_count": 1,
   "metadata": {},
   "outputs": [],
   "source": [
    "from pathlib import Path as path"
   ]
  },
  {
   "cell_type": "code",
   "execution_count": 3,
   "metadata": {},
   "outputs": [
    {
     "data": {
      "text/plain": [
       "[PosixPath('.ipynb_checkpoints')]"
      ]
     },
     "execution_count": 3,
     "metadata": {},
     "output_type": "execute_result"
    }
   ],
   "source": [
    "p = path('.')\n",
    "[x for x in p.iterdir() if x.is_dir()]"
   ]
  },
  {
   "cell_type": "code",
   "execution_count": 4,
   "metadata": {},
   "outputs": [
    {
     "data": {
      "text/plain": [
       "[PosixPath('antisymmetric square.py'),\n",
       " PosixPath('Recognize Identity Matrix.py'),\n",
       " PosixPath('is_friends.py'),\n",
       " PosixPath('find_last.py'),\n",
       " PosixPath('find_element.py'),\n",
       " PosixPath('countries.py'),\n",
       " PosixPath('bodacious.py'),\n",
       " PosixPath('more_friends.py'),\n",
       " PosixPath('days_between_dates.py'),\n",
       " PosixPath('index.py'),\n",
       " PosixPath('next_day.py'),\n",
       " PosixPath('speedoflight.py'),\n",
       " PosixPath('udacify.py'),\n",
       " PosixPath('jung_animal.py'),\n",
       " PosixPath('leap_year.py'),\n",
       " PosixPath('frequency_analysis.py'),\n",
       " PosixPath('find1.py'),\n",
       " PosixPath('numbers_in_lists.py'),\n",
       " PosixPath('10row_abacus_WIP.py'),\n",
       " PosixPath('range_of_sets.py'),\n",
       " PosixPath('todolist_check.py'),\n",
       " PosixPath('download_time.py'),\n",
       " PosixPath('play.py'),\n",
       " PosixPath('sumofthree.py'),\n",
       " PosixPath('text_replacement.py'),\n",
       " PosixPath('find2.py'),\n",
       " PosixPath('sodoku_check.py'),\n",
       " PosixPath('leap_year_baby.py'),\n",
       " PosixPath('exercise.py'),\n",
       " PosixPath('stooges.py'),\n",
       " PosixPath('weekend.py'),\n",
       " PosixPath('find_second.py'),\n",
       " PosixPath('fibonacci_wip.py'),\n",
       " PosixPath('if_statements.py'),\n",
       " PosixPath('measure_udacity.py'),\n",
       " PosixPath('median.py'),\n",
       " PosixPath('factorial.py'),\n",
       " PosixPath('replace_spy.py'),\n",
       " PosixPath('abbaize.py'),\n",
       " PosixPath('days_old.py'),\n",
       " PosixPath('square.py'),\n",
       " PosixPath('blastoff.py'),\n",
       " PosixPath('Sudoku.py'),\n",
       " PosixPath('stamps.py'),\n",
       " PosixPath('rounding_numbers.py'),\n",
       " PosixPath('biggest.py'),\n",
       " PosixPath('palyndrome.py'),\n",
       " PosixPath('print_numbers.py'),\n",
       " PosixPath('Superhero_nuisance.py'),\n",
       " PosixPath('hoursinseveweeks.py'),\n",
       " PosixPath('union.py'),\n",
       " PosixPath('crawler.py'),\n",
       " PosixPath('sum_list.py')]"
      ]
     },
     "execution_count": 4,
     "metadata": {},
     "output_type": "execute_result"
    }
   ],
   "source": [
    "list(p.glob('**/*.py'))"
   ]
  },
  {
   "cell_type": "code",
   "execution_count": 6,
   "metadata": {},
   "outputs": [
    {
     "name": "stdout",
     "output_type": "stream",
     "text": [
      "antisymmetric square.py\n",
      "Recognize Identity Matrix.py\n",
      "is_friends.py\n",
      "find_last.py\n",
      "find_element.py\n",
      "countries.py\n",
      "bodacious.py\n",
      "more_friends.py\n",
      "days_between_dates.py\n",
      "index.py\n",
      "next_day.py\n",
      "speedoflight.py\n",
      "udacify.py\n",
      "jung_animal.py\n",
      "leap_year.py\n",
      "frequency_analysis.py\n",
      "find1.py\n",
      "numbers_in_lists.py\n",
      "10row_abacus_WIP.py\n",
      "range_of_sets.py\n",
      "todolist_check.py\n",
      "download_time.py\n",
      "play.py\n",
      "sumofthree.py\n",
      "text_replacement.py\n",
      "find2.py\n",
      "sodoku_check.py\n",
      "leap_year_baby.py\n",
      "exercise.py\n",
      "stooges.py\n",
      "weekend.py\n",
      "find_second.py\n",
      "fibonacci_wip.py\n",
      "if_statements.py\n",
      "measure_udacity.py\n",
      "median.py\n",
      "factorial.py\n",
      "replace_spy.py\n",
      "abbaize.py\n",
      "days_old.py\n",
      "square.py\n",
      "blastoff.py\n",
      "Sudoku.py\n",
      "stamps.py\n",
      "rounding_numbers.py\n",
      "biggest.py\n",
      "palyndrome.py\n",
      "print_numbers.py\n",
      "Superhero_nuisance.py\n",
      "hoursinseveweeks.py\n",
      "union.py\n",
      "crawler.py\n",
      "sum_list.py\n"
     ]
    }
   ],
   "source": [
    "for x in p.glob('**/*.py'):\n",
    "    print(x)"
   ]
  },
  {
   "cell_type": "code",
   "execution_count": 7,
   "metadata": {},
   "outputs": [],
   "source": [
    "import csv"
   ]
  },
  {
   "cell_type": "code",
   "execution_count": 9,
   "metadata": {},
   "outputs": [
    {
     "ename": "AttributeError",
     "evalue": "module 'csv' has no attribute 'writter'",
     "output_type": "error",
     "traceback": [
      "\u001b[0;31m---------------------------------------------------------------------------\u001b[0m",
      "\u001b[0;31mAttributeError\u001b[0m                            Traceback (most recent call last)",
      "\u001b[0;32m<ipython-input-9-233a6ff1b211>\u001b[0m in \u001b[0;36m<module>\u001b[0;34m\u001b[0m\n\u001b[1;32m      1\u001b[0m \u001b[0;32mwith\u001b[0m \u001b[0mopen\u001b[0m\u001b[0;34m(\u001b[0m\u001b[0;34m'exercises.csv'\u001b[0m\u001b[0;34m,\u001b[0m \u001b[0mmode\u001b[0m\u001b[0;34m=\u001b[0m\u001b[0;34m'w'\u001b[0m\u001b[0;34m)\u001b[0m \u001b[0;32mas\u001b[0m \u001b[0mcontrol_file\u001b[0m\u001b[0;34m:\u001b[0m\u001b[0;34m\u001b[0m\u001b[0;34m\u001b[0m\u001b[0m\n\u001b[0;32m----> 2\u001b[0;31m     \u001b[0mexercise_writer\u001b[0m \u001b[0;34m=\u001b[0m \u001b[0mcsv\u001b[0m\u001b[0;34m.\u001b[0m\u001b[0mwritter\u001b[0m\u001b[0;34m(\u001b[0m\u001b[0mcontrol_file\u001b[0m\u001b[0;34m,\u001b[0m \u001b[0mdelimiter\u001b[0m\u001b[0;34m=\u001b[0m\u001b[0;34m','\u001b[0m\u001b[0;34m,\u001b[0m \u001b[0mquotechar\u001b[0m\u001b[0;34m=\u001b[0m\u001b[0;34m'\"'\u001b[0m\u001b[0;34m,\u001b[0m \u001b[0mquoting\u001b[0m\u001b[0;34m=\u001b[0m\u001b[0mcsv\u001b[0m\u001b[0;34m.\u001b[0m\u001b[0mQUOTE_MINIMAL\u001b[0m\u001b[0;34m)\u001b[0m\u001b[0;34m\u001b[0m\u001b[0;34m\u001b[0m\u001b[0m\n\u001b[0m\u001b[1;32m      3\u001b[0m \u001b[0;34m\u001b[0m\u001b[0m\n",
      "\u001b[0;31mAttributeError\u001b[0m: module 'csv' has no attribute 'writter'"
     ]
    }
   ],
   "source": [
    "with open('exercises.csv', mode='w') as control_file:\n",
    "    exercise_writer = csv.writer(control_file, delimiter=',', quotechar='\"', quoting=csv.QUOTE_MINIMAL)\n",
    "    \n",
    "    "
   ]
  },
  {
   "cell_type": "code",
   "execution_count": 16,
   "metadata": {},
   "outputs": [
    {
     "name": "stdout",
     "output_type": "stream",
     "text": [
      "[PosixPath('antisymmetric square.py'), PosixPath('Recognize Identity Matrix.py'), PosixPath('is_friends.py'), PosixPath('find_last.py'), PosixPath('find_element.py'), PosixPath('countries.py'), PosixPath('bodacious.py'), PosixPath('more_friends.py'), PosixPath('days_between_dates.py'), PosixPath('index.py'), PosixPath('next_day.py'), PosixPath('speedoflight.py'), PosixPath('udacify.py'), PosixPath('jung_animal.py'), PosixPath('leap_year.py'), PosixPath('frequency_analysis.py'), PosixPath('find1.py'), PosixPath('numbers_in_lists.py'), PosixPath('10row_abacus_WIP.py'), PosixPath('range_of_sets.py'), PosixPath('todolist_check.py'), PosixPath('download_time.py'), PosixPath('play.py'), PosixPath('sumofthree.py'), PosixPath('text_replacement.py'), PosixPath('find2.py'), PosixPath('sodoku_check.py'), PosixPath('leap_year_baby.py'), PosixPath('exercise.py'), PosixPath('stooges.py'), PosixPath('weekend.py'), PosixPath('find_second.py'), PosixPath('fibonacci_wip.py'), PosixPath('if_statements.py'), PosixPath('measure_udacity.py'), PosixPath('median.py'), PosixPath('factorial.py'), PosixPath('replace_spy.py'), PosixPath('abbaize.py'), PosixPath('days_old.py'), PosixPath('square.py'), PosixPath('blastoff.py'), PosixPath('Sudoku.py'), PosixPath('stamps.py'), PosixPath('rounding_numbers.py'), PosixPath('biggest.py'), PosixPath('palyndrome.py'), PosixPath('print_numbers.py'), PosixPath('Superhero_nuisance.py'), PosixPath('hoursinseveweeks.py'), PosixPath('union.py'), PosixPath('crawler.py'), PosixPath('sum_list.py')]\n"
     ]
    }
   ],
   "source": [
    "p = path('.')\n",
    "\n",
    "def getFile():\n",
    "    list_of_files=[]\n",
    "    files = list(p.glob('**/*.py'))\n",
    "    for i in files:\n",
    "        list_of_files.append(i)\n",
    "    print(list_of_files)\n",
    "\n",
    "getFile()"
   ]
  },
  {
   "cell_type": "code",
   "execution_count": null,
   "metadata": {},
   "outputs": [],
   "source": []
  }
 ],
 "metadata": {
  "kernelspec": {
   "display_name": "Python 3",
   "language": "python",
   "name": "python3"
  },
  "language_info": {
   "codemirror_mode": {
    "name": "ipython",
    "version": 3
   },
   "file_extension": ".py",
   "mimetype": "text/x-python",
   "name": "python",
   "nbconvert_exporter": "python",
   "pygments_lexer": "ipython3",
   "version": "3.7.1"
  }
 },
 "nbformat": 4,
 "nbformat_minor": 2
}
