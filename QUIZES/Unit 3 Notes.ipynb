{
 "cells": [
  {
   "cell_type": "markdown",
   "metadata": {},
   "source": [
    "## Nested Lists\n"
   ]
  },
  {
   "cell_type": "code",
   "execution_count": 6,
   "metadata": {},
   "outputs": [
    {
     "name": "stdout",
     "output_type": "stream",
     "text": [
      "[['John', 1940], ['Paul', 1942], ['George', 1943], ['Ringo', 1940]]\n"
     ]
    }
   ],
   "source": [
    "mixed_up = ['apple', 3, 'oranges', 23, [1, 2, ['alpha', 'beta']]]\n",
    "            \n",
    "beatles = [['John', 1940], ['Paul', 1942],\n",
    "           ['George', 1943], ['Ringo', 1940]]\n",
    "            \n",
    "print (beatles)            "
   ]
  },
  {
   "cell_type": "markdown",
   "metadata": {},
   "source": [
    "## Mutation\n"
   ]
  },
  {
   "cell_type": "code",
   "execution_count": 7,
   "metadata": {},
   "outputs": [
    {
     "name": "stdout",
     "output_type": "stream",
     "text": [
      "Yellow Yellowish\n"
     ]
    }
   ],
   "source": [
    "s = 'Hello'\n",
    "s = 'Yello'\n",
    "s = s + 'w'\n",
    "t = s \n",
    "s = s + 'ish'\n",
    "print (t, s)"
   ]
  },
  {
   "cell_type": "code",
   "execution_count": 10,
   "metadata": {},
   "outputs": [
    {
     "name": "stdout",
     "output_type": "stream",
     "text": [
      "['Y', 'e', 'l', 'l', '!'] \n",
      " ['Y', 'e', 'l', 'l', '!']\n"
     ]
    }
   ],
   "source": [
    "p = ['H', 'e', 'l', 'l', 'o']\n",
    "p[0] = 'Y'\n",
    "q = p \n",
    "q[4] = '!'\n",
    "print (p,'\\n',q)"
   ]
  },
  {
   "cell_type": "markdown",
   "metadata": {},
   "source": [
    " Lists are mutable\n",
    " Strings are not\n",
    " \n",
    " List opperations: \n",
    " + \n",
    " .append\n",
    " Loops on lists\n",
    "\n",
    "     List \n",
    "     while X on list; \n",
    "     >block \n",
    "    \n",
    "for loop\n",
    "    \n",
    "    for loop (new name) in (list):\n",
    "    block\n",
    "\n",
    "list.pop()-> Element"
   ]
  },
  {
   "cell_type": "code",
   "execution_count": 33,
   "metadata": {},
   "outputs": [
    {
     "name": "stdout",
     "output_type": "stream",
     "text": [
      "get pagehttps://patrickds.wordpress.com/\n"
     ]
    },
    {
     "ename": "TypeError",
     "evalue": "argument of type 'int' is not iterable",
     "output_type": "error",
     "traceback": [
      "\u001b[0;31m---------------------------------------------------------------------------\u001b[0m",
      "\u001b[0;31mTypeError\u001b[0m                                 Traceback (most recent call last)",
      "\u001b[0;32m<ipython-input-33-02749e189d8d>\u001b[0m in \u001b[0;36m<module>\u001b[0;34m\u001b[0m\n\u001b[1;32m     49\u001b[0m         \u001b[0;32mreturn\u001b[0m \u001b[0mcrawled\u001b[0m\u001b[0;34m\u001b[0m\u001b[0;34m\u001b[0m\u001b[0m\n\u001b[1;32m     50\u001b[0m \u001b[0;34m\u001b[0m\u001b[0m\n\u001b[0;32m---> 51\u001b[0;31m \u001b[0mprint\u001b[0m\u001b[0;34m(\u001b[0m\u001b[0mcrawl_web\u001b[0m\u001b[0;34m(\u001b[0m\u001b[0mseed\u001b[0m\u001b[0;34m)\u001b[0m\u001b[0;34m)\u001b[0m\u001b[0;34m\u001b[0m\u001b[0;34m\u001b[0m\u001b[0m\n\u001b[0m",
      "\u001b[0;32m<ipython-input-33-02749e189d8d>\u001b[0m in \u001b[0;36mcrawl_web\u001b[0;34m(seed)\u001b[0m\n\u001b[1;32m     43\u001b[0m         \u001b[0mpage\u001b[0m \u001b[0;34m=\u001b[0m \u001b[0mtocrawl\u001b[0m\u001b[0;34m.\u001b[0m\u001b[0mpop\u001b[0m\u001b[0;34m(\u001b[0m\u001b[0;34m)\u001b[0m\u001b[0;34m\u001b[0m\u001b[0;34m\u001b[0m\u001b[0m\n\u001b[1;32m     44\u001b[0m         \u001b[0;31m# test if the page has already been crawled\u001b[0m\u001b[0;34m\u001b[0m\u001b[0;34m\u001b[0m\u001b[0;34m\u001b[0m\u001b[0m\n\u001b[0;32m---> 45\u001b[0;31m         \u001b[0;32mif\u001b[0m \u001b[0mpage\u001b[0m \u001b[0;32mnot\u001b[0m \u001b[0;32min\u001b[0m \u001b[0mcrawled\u001b[0m\u001b[0;34m:\u001b[0m\u001b[0;34m\u001b[0m\u001b[0;34m\u001b[0m\u001b[0m\n\u001b[0m\u001b[1;32m     46\u001b[0m             \u001b[0;31m# use union to add pages, to avoid dupplication\u001b[0m\u001b[0;34m\u001b[0m\u001b[0;34m\u001b[0m\u001b[0;34m\u001b[0m\u001b[0m\n\u001b[1;32m     47\u001b[0m             \u001b[0munion\u001b[0m\u001b[0;34m(\u001b[0m\u001b[0mtocrawl\u001b[0m\u001b[0;34m,\u001b[0m\u001b[0mget_all_links\u001b[0m\u001b[0;34m(\u001b[0m\u001b[0mget_page\u001b[0m\u001b[0;34m(\u001b[0m\u001b[0mpage\u001b[0m\u001b[0;34m)\u001b[0m\u001b[0;34m)\u001b[0m\u001b[0;34m)\u001b[0m\u001b[0;34m\u001b[0m\u001b[0;34m\u001b[0m\u001b[0m\n",
      "\u001b[0;31mTypeError\u001b[0m: argument of type 'int' is not iterable"
     ]
    }
   ],
   "source": [
    "# Crawler for weblinks\n",
    "\n",
    "# Get page input from user\n",
    "\n",
    "seed = input('get page')\n",
    "\n",
    "def get_page(page):\n",
    "    try:\n",
    "        import  urllib\n",
    "        return urllib.urlopen(url).read()\n",
    "    except:\n",
    "        return \"\"\n",
    "\n",
    "\n",
    "def get_next_target():\n",
    "    start_link = page.find('<a href=')\n",
    "\n",
    "    if start_link == -1:\n",
    "        return None, 0\n",
    "\n",
    "    start_quote = page.find('\"',  start_link)\n",
    "    end_quote = page.find('\"', start_quote + 1)\n",
    "    url = page[start_quote + 1:end_quote]\n",
    "    return url, end_quote\n",
    "\n",
    "\n",
    "\n",
    "def get_all_links(page):\n",
    "    link = []\n",
    "    while True:\n",
    "        url, endpos = get_next_target(page)\n",
    "        if url:\n",
    "            links = links.append(url)\n",
    "            page = page[endpos:]\n",
    "        else:\n",
    "            break\n",
    "    return links\n",
    "\n",
    "def crawl_web(seed):\n",
    "    tocrawl = [seed]\n",
    "    crawled = 0\n",
    "    while tocrawl:\n",
    "        page = tocrawl.pop()\n",
    "        # test if the page has already been crawled\n",
    "        if page not in crawled:\n",
    "            # use union to add pages, to avoid dupplication\n",
    "            union(tocrawl,get_all_links(get_page(page)))\n",
    "            crawled.append(page)\n",
    "        return crawled\n",
    "    \n",
    "print(crawl_web(seed))"
   ]
  },
  {
   "cell_type": "code",
   "execution_count": null,
   "metadata": {},
   "outputs": [],
   "source": [
    "# Product List Quiz\n",
    "\n",
    "def product_list(p):\n",
    "    total = 1 \n",
    "    for i in p:\n",
    "        total =  total * i\n",
    "    return total\n",
    "\n",
    "#Return the greatest value in list_of_numbers\n",
    "\n",
    "def greatest(p):\n",
    "    big = 0 \n",
    "    for i in p:\n",
    "        if i > big: \n",
    "            big = i\n",
    "        return big\n",
    "    \n",
    "# or\n",
    "\n",
    "def  greatest(p):\n",
    "    while len(p) > 0:\n",
    "        return max(p)\n",
    "    return 0\n",
    "\n",
    "\n"
   ]
  },
  {
   "cell_type": "code",
   "execution_count": 17,
   "metadata": {},
   "outputs": [
    {
     "name": "stdout",
     "output_type": "stream",
     "text": [
      "(90000, 0)\n",
      "(77285, 3058581079)\n"
     ]
    }
   ],
   "source": [
    "# Define a procedure, total_enrollment,\n",
    "# that takes as an input a list of elements,\n",
    "# where each element is a list containing\n",
    "# three elements: a university name,\n",
    "# the total number of students enrolled,\n",
    "# and the annual tuition fees.\n",
    "\n",
    "# The procedure should return two numbers,\n",
    "# not a string, \n",
    "# giving the total number of students\n",
    "# enrolled at all of the universities\n",
    "# in the list, and the total tuition fees\n",
    "# (which is the sum of the number\n",
    "# of students enrolled times the\n",
    "# tuition fees for each university).\n",
    "\n",
    "udacious_univs = [['Udacity',90000,0]]\n",
    "\n",
    "usa_univs = [ ['California Institute of Technology',2175,37704],\n",
    "              ['Harvard',19627,39849],\n",
    "              ['Massachusetts Institute of Technology',10566,40732],\n",
    "              ['Princeton',7802,37000],\n",
    "              ['Rice',5879,35551],\n",
    "              ['Stanford',19535,40569],\n",
    "              ['Yale',11701,40500]  ]\n",
    "\n",
    "#My version\n",
    "def total_enrollment(a):\n",
    "    total_students = 0\n",
    "    total_tuition = 0\n",
    "    for i in a:\n",
    "        total_tuition += i[1] * i[2]\n",
    "        total_students += i[1]\n",
    "    return total_students, total_tuition\n",
    "        \n",
    "\n",
    "#List of lists [[name, students, tuition]]\n",
    "# total students\n",
    "# total tuition \n",
    "# for each iteraction, multiply tuition * students\n",
    "\n",
    "\n",
    "print (total_enrollment(udacious_univs))\n",
    "#>>> (90000,0)\n",
    "\n",
    "# The L is automatically added by Python to indicate a long\n",
    "# number. If you are trying the question in an outside \n",
    "# interpreter you might not see it.\n",
    "\n",
    "print (total_enrollment(usa_univs))\n",
    "#>>> (77285,3058581079)\n"
   ]
  },
  {
   "cell_type": "code",
   "execution_count": 3,
   "metadata": {},
   "outputs": [
    {
     "name": "stdout",
     "output_type": "stream",
     "text": [
      "['https://www.tutorialspoint.com/python/python_functions.htm']\n"
     ]
    }
   ],
   "source": [
    "# The web crawler we built at the end of Unit 3 has some serious\n",
    "# flaws if we were going to use it in a real crawler. One\n",
    "# problem is if we start with a good seed page, it might\n",
    "# run for an extremely long time (even forever, since the\n",
    "# number of URLS on the web is not actually finite). This\n",
    "# question and the following one explore two different ways\n",
    "# to limit the pages that it can crawl.\n",
    "\n",
    "# Modify the crawl_web procedure to take a second parameter,\n",
    "# max_pages, that limits the number of pages to crawl.\n",
    "# Your procedure should terminate the crawl after\n",
    "# max_pages different pages have been crawled, or when\n",
    "# there are no more pages to crawl.\n",
    "\n",
    "# The following definition of get_page provides an interface\n",
    "# to the website found at http://www.udacity.com/cs101x/index.html\n",
    "\n",
    "# The function output order does not affect grading.\n",
    "\n",
    "def get_page(url):\n",
    "    try:\n",
    "        if url == \"http://www.udacity.com/cs101x/index.html\":\n",
    "            return ('<html> <body> This is a test page for learning to crawl! '\n",
    "            '<p> It is a good idea to '\n",
    "            '<a href=\"http://www.udacity.com/cs101x/crawling.html\">learn to '\n",
    "            'crawl</a> before you try to  '\n",
    "            '<a href=\"http://www.udacity.com/cs101x/walking.html\">walk</a> '\n",
    "            'or  <a href=\"http://www.udacity.com/cs101x/flying.html\">fly</a>. '\n",
    "            '</p> </body> </html> ')\n",
    "        elif url == \"http://www.udacity.com/cs101x/crawling.html\":\n",
    "            return ('<html> <body> I have not learned to crawl yet, but I '\n",
    "            'am quite good at '\n",
    "            '<a href=\"http://www.udacity.com/cs101x/kicking.html\">kicking</a>.'\n",
    "            '</body> </html>')\n",
    "        elif url == \"http://www.udacity.com/cs101x/walking.html\":\n",
    "            return ('<html> <body> I cant get enough '\n",
    "            '<a href=\"http://www.udacity.com/cs101x/index.html\">crawling</a>! '\n",
    "            '</body> </html>')\n",
    "        elif url == \"http://www.udacity.com/cs101x/flying.html\":\n",
    "            return ('<html> <body> The magic words are Squeamish Ossifrage! '\n",
    "            '</body> </html>')\n",
    "    except:\n",
    "        return \"\"\n",
    "    return \"\"\n",
    "\n",
    "def get_next_target(page):\n",
    "    start_link = page.find('<a href=')\n",
    "    if start_link == -1: \n",
    "        return None, 0\n",
    "    start_quote = page.find('\"', start_link)\n",
    "    end_quote = page.find('\"', start_quote + 1)\n",
    "    url = page[start_quote + 1:end_quote]\n",
    "    return url, end_quote\n",
    "\n",
    "def union(p,q):\n",
    "    for e in q:\n",
    "        if e not in p:\n",
    "            p.append(e)\n",
    "\n",
    "def get_all_links(page):\n",
    "    links = []\n",
    "    while True:\n",
    "        url,endpos = get_next_target(page)\n",
    "        if url:\n",
    "            links.append(url)\n",
    "            page = page[endpos:]\n",
    "        else:\n",
    "            break\n",
    "    return links\n",
    "\n",
    "def crawl_web(seed, max_pages):\n",
    "    tocrawl = [seed]\n",
    "    crawled = [] # len(crawled) is lenght of crawled\n",
    "    while tocrawl:\n",
    "        page = tocrawl.pop()\n",
    "        if page not in crawled and len(crawled) < max_pages:\n",
    "            union(tocrawl, get_all_links(get_page(page)))\n",
    "            crawled.append(page)\n",
    "    return crawled\n",
    "\n",
    "print (crawl_web(\"https://www.tutorialspoint.com/python/python_functions.htm\",100) )\n",
    "#>>> ['http://www.udacity.com/cs101x/index.html']\n",
    "\n",
    "# print crawl_web(\"http://www.udacity.com/cs101x/index.html\",3) \n",
    "#>>> ['http://www.udacity.com/cs101x/index.html', \n",
    "#>>> 'http://www.udacity.com/cs101x/flying.html', \n",
    "#>>> 'http://www.udacity.com/cs101x/walking.html']\n",
    "\n",
    "#print crawl_web(\"http://www.udacity.com/cs101x/index.html\",500) \n",
    "#>>> ['http://www.udacity.com/cs101x/index.html', \n",
    "#>>> 'http://www.udacity.com/cs101x/flying.html', \n",
    "#>>> 'http://www.udacity.com/cs101x/walking.html', \n",
    "#>>> 'http://www.udacity.com/cs101x/crawling.html', \n",
    "#>>> 'http://www.udacity.com/cs101x/kicking.html']\n"
   ]
  },
  {
   "cell_type": "markdown",
   "metadata": {},
   "source": [
    "__SUDOKU__\n",
    "\n"
   ]
  },
  {
   "cell_type": "code",
   "execution_count": 39,
   "metadata": {},
   "outputs": [
    {
     "name": "stdout",
     "output_type": "stream",
     "text": [
      "False\n",
      "True\n",
      "False\n",
      "False\n",
      "False\n",
      "False\n"
     ]
    }
   ],
   "source": [
    "# THREE GOLD STARS\n",
    "\n",
    "# Sudoku [http://en.wikipedia.org/wiki/Sudoku]\n",
    "# is a logic puzzle where a game\n",
    "# is defined by a partially filled\n",
    "# 9 x 9 square of digits where each square\n",
    "# contains one of the digits 1,2,3,4,5,6,7,8,9.\n",
    "# For this question we will generalize\n",
    "# and simplify the game.\n",
    "\n",
    "# Define a procedure, check_sudoku,\n",
    "# that takes as input a square list\n",
    "# of lists representing an n x n\n",
    "# sudoku puzzle solution and returns the boolean\n",
    "# True if the input is a valid\n",
    "# sudoku square and returns the boolean False\n",
    "# otherwise.\n",
    "\n",
    "# A valid sudoku square satisfies these\n",
    "# two properties:\n",
    "\n",
    "#   1. Each column of the square contains\n",
    "#       each of the whole numbers from 1 to n exactly once.\n",
    "\n",
    "#   2. Each row of the square contains each\n",
    "#       of the whole numbers from 1 to n exactly once.\n",
    "\n",
    "# You may assume the the input is square and contains at\n",
    "# least one row and column.\n",
    "\n",
    "correct = [[1,2,3],\n",
    "           [2,3,1],\n",
    "           [3,1,2]]\n",
    "\n",
    "incorrect = [[1,2,3,4],\n",
    "             [2,3,1,3],\n",
    "             [3,1,2,3],\n",
    "             [4,4,4,4]]\n",
    "\n",
    "incorrect2 = [[1,2,3,4],\n",
    "             [2,3,1,4],\n",
    "             [4,1,2,3],\n",
    "             [3,4,1,2]]\n",
    "\n",
    "incorrect3 = [[1,2,3,4,5],\n",
    "              [2,3,1,5,6],\n",
    "              [4,5,2,1,3],\n",
    "              [3,4,5,2,1],\n",
    "              [5,6,4,3,2]]\n",
    "\n",
    "incorrect4 = [['a','b','c'],\n",
    "              ['b','c','a'],\n",
    "              ['c','a','b']]\n",
    "\n",
    "incorrect5 = [ [1, 1.5],\n",
    "               [1.5, 1]]\n",
    "               \n",
    "def check_sudoku(a):\n",
    "    n = len(a) # Extract size of the grid\n",
    "    digit = 1 # Start with 1\n",
    "    while digit <= n: #Go through each digit\n",
    "        i = 0\n",
    "        while i < n: #Go through each row and column\n",
    "            row_count = 0\n",
    "            col_count = 0\n",
    "            j = 0 \n",
    "            while j < n: # for each entry in row/column\n",
    "                if a[i][j] == digit:\n",
    "                    row_count = row_count + 1\n",
    "                if a[j][i] == digit: \n",
    "                    col_count = col_count + 1\n",
    "                j = j + 1\n",
    "            if row_count != 1 or col_count != 1:\n",
    "                return False\n",
    "            i = i + 1 # next row/column\n",
    "        digit = digit + 1 # next digit\n",
    "    return True # Nothing was wrong\n",
    "\n",
    "\n",
    "    \n",
    "''''\n",
    "PSEUDO\n",
    "for each digit\n",
    "    for i row $ col\n",
    "        count occurencies of digit\n",
    "    if occurences != 1\n",
    "        false\n",
    "\n",
    "# row elements appear only once\n",
    "# columns elements appear only once\n",
    "count has to be 1 for both row and col count. \n",
    "'''\n",
    "\n",
    "\n",
    "\n",
    "    \n",
    "    \n",
    "print (check_sudoku(incorrect))\n",
    "#>>> False\n",
    "\n",
    "print (check_sudoku(correct))\n",
    "#>>> True\n",
    "\n",
    "print (check_sudoku(incorrect2))\n",
    "#>>> False\n",
    "\n",
    "print (check_sudoku(incorrect3))\n",
    "#>>> False\n",
    "\n",
    "print (check_sudoku(incorrect4))\n",
    "#>>> False\n",
    "\n",
    "print (check_sudoku(incorrect5))\n",
    "#>>> False\n",
    "\n",
    "\n"
   ]
  },
  {
   "cell_type": "code",
   "execution_count": 40,
   "metadata": {},
   "outputs": [
    {
     "ename": "SyntaxError",
     "evalue": "unexpected EOF while parsing (<ipython-input-40-412c53f65994>, line 34)",
     "output_type": "error",
     "traceback": [
      "\u001b[0;36m  File \u001b[0;32m\"<ipython-input-40-412c53f65994>\"\u001b[0;36m, line \u001b[0;32m34\u001b[0m\n\u001b[0;31m    #>>> False\u001b[0m\n\u001b[0m              ^\u001b[0m\n\u001b[0;31mSyntaxError\u001b[0m\u001b[0;31m:\u001b[0m unexpected EOF while parsing\n"
     ]
    }
   ],
   "source": [
    "# A list is symmetric if the first row is the same as the first column,\n",
    "# the second row is the same as the second column and so on. Write a\n",
    "# procedure, symmetric, which takes a list as input, and returns the\n",
    "# boolean True if the list is symmetric and False if it is not.\n",
    "def symmetric():\n",
    "    # Your code here\n",
    "\n",
    "#print symmetric([[1, 2, 3],\n",
    "#                [2, 3, 4],\n",
    "#                [3, 4, 1]])\n",
    "#>>> True\n",
    "\n",
    "#print symmetric([[\"cat\", \"dog\", \"fish\"],\n",
    "#                [\"dog\", \"dog\", \"fish\"],\n",
    "#                [\"fish\", \"fish\", \"cat\"]])\n",
    "#>>> True\n",
    "\n",
    "#print symmetric([[\"cat\", \"dog\", \"fish\"],\n",
    "#                [\"dog\", \"dog\", \"dog\"],\n",
    "#                [\"fish\",\"fish\",\"cat\"]])\n",
    "#>>> False\n",
    "\n",
    "#print symmetric([[1, 2],\n",
    "#                [2, 1]])\n",
    "#>>> True\n",
    "\n",
    "#print symmetric([[1, 2, 3, 4],\n",
    "#                [2, 3, 4, 5],\n",
    "#                [3, 4, 5, 6]])\n",
    "#>>> False\n",
    "\n",
    "#print symmetric([[1,2,3],\n",
    "#                 [2,3,1]])\n",
    "#>>> False\n",
    "\n",
    "\n",
    "\n",
    "def symmetric(p):\n",
    "    n = len(p) # length of p\n",
    "    check = 0 \n",
    "    col = [] \n",
    "    row = []\n",
    "    while check <=  n: \n",
    "        col = p[0]\n",
    "    return col\n",
    "    \n",
    "    \n",
    "print (symmetric([[1, 2, 3],\n",
    "                 [2, 3, 4],\n",
    "                [3, 4, 1]]))\n",
    "\n",
    "\n"
   ]
  },
  {
   "cell_type": "code",
   "execution_count": null,
   "metadata": {},
   "outputs": [],
   "source": [
    "#SUDOKU\n",
    "\n",
    "# THREE GOLD STARS\n",
    "\n",
    "# Sudoku [http://en.wikipedia.org/wiki/Sudoku]\n",
    "# is a logic puzzle where a game\n",
    "# is defined by a partially filled\n",
    "# 9 x 9 square of digits where each square\n",
    "# contains one of the digits 1,2,3,4,5,6,7,8,9.\n",
    "# For this question we will generalize\n",
    "# and simplify the game.\n",
    "\n",
    "# Define a procedure, check_sudoku,\n",
    "# that takes as input a square list\n",
    "# of lists representing an n x n\n",
    "# sudoku puzzle solution and returns the boolean\n",
    "# True if the input is a valid\n",
    "# sudoku square and returns the boolean False\n",
    "# otherwise.\n",
    "\n",
    "# A valid sudoku square satisfies these\n",
    "# two properties:\n",
    "\n",
    "#   1. Each column of the square contains\n",
    "#       each of the whole numbers from 1 to n exactly once.\n",
    "\n",
    "#   2. Each row of the square contains each\n",
    "#       of the whole numbers from 1 to n exactly once.\n",
    "\n",
    "# You may assume the the input is square and contains at\n",
    "# least one row and column.\n",
    "\n",
    "correct = [[1,2,3],\n",
    "           [2,3,1],\n",
    "           [3,1,2]]\n",
    "\n",
    "incorrect = [[1,2,3,4],\n",
    "             [2,3,1,3],\n",
    "             [3,1,2,3],\n",
    "             [4,4,4,4]]\n",
    "\n",
    "incorrect2 = [[1,2,3,4],\n",
    "             [2,3,1,4],\n",
    "             [4,1,2,3],\n",
    "             [3,4,1,2]]\n",
    "\n",
    "incorrect3 = [[1,2,3,4,5],\n",
    "              [2,3,1,5,6],\n",
    "              [4,5,2,1,3],\n",
    "              [3,4,5,2,1],\n",
    "              [5,6,4,3,2]]\n",
    "\n",
    "incorrect4 = [['a','b','c'],\n",
    "              ['b','c','a'],\n",
    "              ['c','a','b']]\n",
    "\n",
    "incorrect5 = [ [1, 1.5],\n",
    "               [1.5, 1]]\n",
    "               \n",
    "def check_sudoku(arr):\n",
    "    n = len(arr)\n",
    "    digit = 1 #digit test\n",
    "    while digit <= n: #iterate  digits\n",
    "        i = 0 \n",
    "        while i < n: #iterate row/columns\n",
    "            row_check = 0\n",
    "            col_check = 0\n",
    "            j = 0\n",
    "            while j < n: #check digits\n",
    "                if arr[i][j] == digit:\n",
    "                    row_check = row_check + 1\n",
    "                if arr[j][i] == digit:\n",
    "                    col_check = col_check + 1\n",
    "                j += +1 #next iteraction\n",
    "            if row_check != 1 or col_check != 1:\n",
    "                return False\n",
    "            i = i + 1\n",
    "        digit += +1 #next digit\n",
    "    return True\n",
    "            \n",
    "            \n",
    "#arr[i][j] -> iterate column\n",
    "#arr[j][i]-> iterate row\n",
    "#row and col checks has to be 1 for each iteraction\n",
    "\n",
    "\n",
    "print(check_sudoku(incorrect))\n",
    "#>>> False\n",
    "\n",
    "print(check_sudoku(correct))\n",
    "#>>> True\n",
    "\n",
    "print (check_sudoku(incorrect2))\n",
    "#>>> False\n",
    "\n",
    "print (check_sudoku(incorrect3))\n",
    "#>>> False\n",
    "\n",
    "print (check_sudoku(incorrect4))\n",
    "#>>> False\n",
    "\n",
    "print (check_sudoku(incorrect5))\n",
    "#>>> False\n",
    "\n",
    "# n = 2 sum = 3 n * 1.5 / n + 1\n",
    "# n = 3 sum = 6 n * 2 / n + 3\n",
    "# n = 4 sum = 10 n * 2.5 / n + + 6\n",
    "# n = 5 sum = 15 = n * 3 / n + 10\n",
    "# n = 6 sum = 21 = n * 3,5\n",
    "\n",
    "# sum(n) = n * (1 + (n-1)*0,5)\n"
   ]
  },
  {
   "cell_type": "code",
   "execution_count": 56,
   "metadata": {},
   "outputs": [
    {
     "name": "stdout",
     "output_type": "stream",
     "text": [
      "True\n"
     ]
    }
   ],
   "source": [
    "def proc(p):\n",
    "    q = p\n",
    "    p.append(3)\n",
    "    q.pop()\n",
    "    return p == q\n",
    "    \n",
    "    \n",
    "print(proc([1,2,3]))"
   ]
  },
  {
   "cell_type": "code",
   "execution_count": 7,
   "metadata": {},
   "outputs": [],
   "source": [
    "def product_list(p):\n",
    "    data = 1\n",
    "    for i in p:\n",
    "        data = data * i\n",
    "    return data"
   ]
  },
  {
   "cell_type": "code",
   "execution_count": 8,
   "metadata": {},
   "outputs": [
    {
     "ename": "SyntaxError",
     "evalue": "invalid syntax (<ipython-input-8-0483a4586e44>, line 6)",
     "output_type": "error",
     "traceback": [
      "\u001b[0;36m  File \u001b[0;32m\"<ipython-input-8-0483a4586e44>\"\u001b[0;36m, line \u001b[0;32m6\u001b[0m\n\u001b[0;31m    return big or return 0\u001b[0m\n\u001b[0m                       ^\u001b[0m\n\u001b[0;31mSyntaxError\u001b[0m\u001b[0;31m:\u001b[0m invalid syntax\n"
     ]
    }
   ],
   "source": [
    "def greatest(p):\n",
    "    big = 0\n",
    "    for i in p:\n",
    "        if i > big:\n",
    "            big = i\n",
    "    return big or return 0"
   ]
  },
  {
   "cell_type": "code",
   "execution_count": null,
   "metadata": {},
   "outputs": [],
   "source": [
    "    total_students = 0\n",
    "    total_tuition = 0\n",
    "    for i in a:\n",
    "        total_tuition += i[1] * i[2]\n",
    "        total_students += i[1]\n",
    "    return total_students, total_tuition\n",
    "    "
   ]
  },
  {
   "cell_type": "code",
   "execution_count": 71,
   "metadata": {},
   "outputs": [
    {
     "data": {
      "text/plain": [
       "[0, 1]"
      ]
     },
     "execution_count": 71,
     "metadata": {},
     "output_type": "execute_result"
    }
   ],
   "source": [
    "def crawl_web(seed,max_depth):\n",
    "    tocrawl = [seed]\n",
    "    crawled = []\n",
    "    while tocrawl:\n",
    "        page = tocrawl.pop()\n",
    "        if page not in crawled and len(crawled) <= tocrawl[:max_depth + 1]:\n",
    "            union(tocrawl, get_all_links(get_page(page)))\n",
    "            crawled.append(page)\n",
    "    return crawled"
   ]
  },
  {
   "cell_type": "code",
   "execution_count": 105,
   "metadata": {},
   "outputs": [
    {
     "name": "stdout",
     "output_type": "stream",
     "text": [
      "True\n",
      "True\n",
      "False\n"
     ]
    }
   ],
   "source": [
    "def symmetric(arr):\n",
    "    n = (len(arr) - 1) \n",
    "    i = 0\n",
    "    \n",
    "    if len(arr) == 0:\n",
    "        return True\n",
    "    \n",
    "    if n != len(arr[0]) - 1:\n",
    "        return False\n",
    "        \n",
    "    while i <= n:\n",
    "        j = 0 \n",
    "        while j < n:    \n",
    "            if arr[i][j] != arr[j][i]:\n",
    "                return False\n",
    "            j = j + 1\n",
    "        i = i + 1\n",
    "    return True          \n",
    "            \n",
    "print(symmetric([[1, 2, 3],[2, 3, 4],[3, 4, 1]]))\n",
    "#>>> True\n",
    "\n",
    "print (symmetric([[\"cat\", \"dog\", \"fish\"], [\"dog\", \"dog\", \"fish\"],[\"fish\", \"fish\", \"cat\"]]))\n",
    "#>>> True\n",
    "\n",
    "print (symmetric([[\"cat\", \"dog\", \"fish\"],\n",
    "                [\"dog\", \"dog\", \"dog\"],\n",
    "                [\"fish\",\"fish\",\"cat\"]]))\n",
    "#>>> False\n",
    "\n",
    "#print symmetric([[1, 2],\n",
    "#                [2, 1]])\n",
    "#>>> True\n",
    "\n",
    "#print symmetric([[1, 2, 3, 4],\n",
    "#                [2, 3, 4, 5],\n",
    "#                [3, 4, 5, 6]])\n",
    "#>>> False\n",
    "\n",
    "#print symmetric([[1,2,3],\n",
    "#                 [2,3,1]])"
   ]
  },
  {
   "cell_type": "code",
   "execution_count": 104,
   "metadata": {},
   "outputs": [
    {
     "data": {
      "text/plain": [
       "3"
      ]
     },
     "execution_count": 104,
     "metadata": {},
     "output_type": "execute_result"
    }
   ],
   "source": [
    "len([[1, 2, 3],[2, 3, 4],[3, 4, 1]])"
   ]
  },
  {
   "cell_type": "code",
   "execution_count": 106,
   "metadata": {},
   "outputs": [
    {
     "ename": "SyntaxError",
     "evalue": "invalid syntax (<ipython-input-106-fddd23a8a748>, line 17)",
     "output_type": "error",
     "traceback": [
      "\u001b[0;36m  File \u001b[0;32m\"<ipython-input-106-fddd23a8a748>\"\u001b[0;36m, line \u001b[0;32m17\u001b[0m\n\u001b[0;31m    print list_mean([1,2,3,4])\u001b[0m\n\u001b[0m                  ^\u001b[0m\n\u001b[0;31mSyntaxError\u001b[0m\u001b[0;31m:\u001b[0m invalid syntax\n"
     ]
    }
   ],
   "source": [
    "# The mean of a set of numbers is the sum of the numbers divided by the\n",
    "# number of numbers. Write a procedure, list_mean, which takes a list of numbers\n",
    "# as its input and return the mean of the numbers in the list.\n",
    "\n",
    "# Hint: You will need to work out how to make your division into decimal\n",
    "# division instead of integer division. You get decimal division if any of\n",
    "# the numbers involved are decimals.\n",
    "\n",
    "def list_mean(arr):\n",
    "    n = len(arr)\n",
    "    sum = 0 \n",
    "    for i in  arr: \n",
    "        sum += +i\n",
    "    mean = (float(sum)/n)\n",
    "    return mean\n",
    "\n",
    "print list_mean([1,2,3,4])\n",
    "#>>> 2.5\n",
    "print list_mean([1,3,4,5,2])\n",
    "#>>> 3.0\n",
    "#print list_mean([])\n",
    "#>>> ??? You decide. If you decide it should give an error, comment\n",
    "# out the print line above to prevent your code from being graded as\n",
    "# incorrect.\n",
    "print list_mean([2])\n",
    "#>>> 2.0"
   ]
  },
  {
   "cell_type": "code",
   "execution_count": 115,
   "metadata": {},
   "outputs": [
    {
     "name": "stdout",
     "output_type": "stream",
     "text": [
      "False\n"
     ]
    }
   ],
   "source": [
    "def is_identity_matrix(matrix):\n",
    "    n = (len(matrix) - 1) \n",
    "    i = 0\n",
    "    \n",
    "    if len(matrix) == 0:\n",
    "        return True\n",
    "    # if grid not square : false\n",
    "    if n != len(matrix[0]) - 1:\n",
    "        return False\n",
    "    # loop\n",
    "    i = 0\n",
    "    while i <= n:\n",
    "        j = 0 \n",
    "        while j <= n:    \n",
    "            if matrix[i][j] != matrix[j][i]:\n",
    "                return False\n",
    "                    \n",
    "            if i == j:\n",
    "                if matrix[i][j] != 1:\n",
    "                    return False\n",
    "            else: \n",
    "                if matrix[i][j] != 0:\n",
    "                    return False\n",
    "                \n",
    "            j = j + 1\n",
    "        i = i + 1\n",
    "    return True  \n",
    "matrix7 = [[1, 0, 0], [0, 1, 0], [0, 0, 0]]\n",
    "\n",
    "print (is_identity_matrix(matrix7))"
   ]
  },
  {
   "cell_type": "code",
   "execution_count": 112,
   "metadata": {},
   "outputs": [
    {
     "name": "stdout",
     "output_type": "stream",
     "text": [
      "False\n"
     ]
    }
   ],
   "source": [
    "def is_identity_matrix(grid):\n",
    "    if grid == []:\n",
    "        return True\n",
    "    gridSize = len(grid)     # Extract size of grid  (defined by number of rows)\n",
    "    numCols = len(grid[0])  # Extract number of columns\n",
    "    if not (gridSize == numCols):  # If grid is non-square\n",
    "        return False\n",
    "    i = 0\n",
    "    while i <= (gridSize - 1):\n",
    "        j = 0\n",
    "        while j <= (gridSize - 1):   # for each entry in ith row/column\n",
    "            # work through the ith row/column               \n",
    "            if not (grid[i][j] == grid[j][i]):                \n",
    "                return False\n",
    "            if (i == j):\n",
    "                if not (grid[i][j] == 1):\n",
    "                    return False\n",
    "            else:\n",
    "                if not(grid[i][j] == 0):\n",
    "                    return False\n",
    "            j = j + 1\n",
    "        i = i + 1   # next row/column\n",
    "    return True  # Nothing was wrong.\n",
    "\n",
    "matrix7 = [[1, 0, 0], [0, 1, 0], [0, 0, 0]]\n",
    "\n",
    "print (is_identity_matrix(matrix7))\n"
   ]
  },
  {
   "cell_type": "code",
   "execution_count": 34,
   "metadata": {},
   "outputs": [
    {
     "name": "stdout",
     "output_type": "stream",
     "text": [
      "'543987' True\n",
      "'987654321' True\n",
      "'455532123266' True\n",
      "'123456789' True\n"
     ]
    }
   ],
   "source": [
    "# Numbers in lists by SeanMc from forums\n",
    "# define a procedure that takes in a string of numbers from 1-9 and\n",
    "# outputs a list with the following parameters:\n",
    "# Every number in the string should be inserted into the list.\n",
    "# If a number x in the string is less than or equal \n",
    "# to the preceding number y, the number x should be inserted \n",
    "# into a sublist. Continue adding the following numbers to the \n",
    "# sublist until reaching a number z that\n",
    "# is greater than the number y. \n",
    "# Then add this number z to the normal list and continue.\n",
    "\n",
    "#Hint - \"int()\" turns a string's element into a number\n",
    "\n",
    "def numbers_in_lists(string):\n",
    "    result = []\n",
    "    temp = []\n",
    "    n = 0\n",
    "    biggest = 0\n",
    "    while n < len(string):   \n",
    "        if int(string[n]) > biggest: #check biggest\n",
    "            biggest = int(string[n]) # store biggest\n",
    "            if temp != []: # check temp list for int.\n",
    "                result.append(temp) #appends if not empty\n",
    "                temp = []\n",
    "            result.append(int(string[n])) #otherwise appends string[n]\n",
    "        else:\n",
    "            temp.append(int(string[n])) #if smaller, appends to temp\n",
    "        n += +1 #iterates over list\n",
    "    if temp != []: #solves temp at the end.\n",
    "        result.append(temp)\n",
    "    return result\n",
    "        \n",
    "        \n",
    "\n",
    "#testcases\n",
    "string = '543987'\n",
    "result = [5,[4,3],9,[8,7]]\n",
    "print (repr(string), numbers_in_lists(string) == result)\n",
    "string= '987654321'\n",
    "result = [9,[8,7,6,5,4,3,2,1]]\n",
    "print (repr(string), numbers_in_lists(string) == result)\n",
    "string = '455532123266'\n",
    "result = [4, 5, [5, 5, 3, 2, 1, 2, 3, 2], 6, [6]]\n",
    "print (repr(string), numbers_in_lists(string) == result)\n",
    "string = '123456789'\n",
    "result = [1, 2, 3, 4, 5, 6, 7, 8, 9]\n",
    "print (repr(string), numbers_in_lists(string) == result)\n",
    "\n"
   ]
  },
  {
   "cell_type": "code",
   "execution_count": 39,
   "metadata": {},
   "outputs": [
    {
     "data": {
      "text/plain": [
       "2"
      ]
     },
     "execution_count": 39,
     "metadata": {},
     "output_type": "execute_result"
    }
   ],
   "source": [
    "mylist = 'patricckp'\n",
    "mylist.count('p')\n"
   ]
  },
  {
   "cell_type": "code",
   "execution_count": 11,
   "metadata": {},
   "outputs": [
    {
     "name": "stdout",
     "output_type": "stream",
     "text": [
      "[0.25, 0.25, 0.25, 0.25, 0.0, 0.0, 0.0, 0.0, 0.0, 0.0, 0.0, 0.0, 0.0, 0.0, 0.0, 0.0, 0.0, 0.0, 0.0, 0.0, 0.0, 0.0, 0.0, 0.0, 0.0, 0.0]\n",
      "[0.5, 0.0, 0.25, 0.25, 0.0, 0.0, 0.0, 0.0, 0.0, 0.0, 0.0, 0.0, 0.0, 0.0, 0.0, 0.0, 0.0, 0.0, 0.0, 0.0, 0.0, 0.0, 0.0, 0.0, 0.0, 0.0]\n",
      "[0.0625, 0.125, 0.0, 0.0, 0.25, 0.0, 0.0, 0.0625, 0.0625, 0.0, 0.0, 0.0, 0.0, 0.125, 0.0, 0.0, 0.0, 0.0625, 0.0625, 0.0625, 0.0625, 0.0, 0.0625, 0.0, 0.0, 0.0]\n"
     ]
    }
   ],
   "source": [
    "# Crypto Analysis: Frequency Analysis\n",
    "#\n",
    "# To analyze encrypted messages, to find out information about the possible \n",
    "# algorithm or even language of the clear text message, one could perform \n",
    "# frequency analysis. This process could be described as simply counting \n",
    "# the number of times a certain symbol occurs in the given text. \n",
    "# For example:\n",
    "# For the text \"test\" the frequency of 'e' is 1, 's' is 1 and 't' is 2.\n",
    "#\n",
    "# The input to the function will be an encrypted body of text that only contains \n",
    "# the lowercase letters a-z. \n",
    "# As output you should return a list of the normalized frequency \n",
    "# for each of the letters a-z. \n",
    "# The normalized frequency is simply the number of occurrences, i, \n",
    "# divided by the total number of characters in the message, n.\n",
    "\n",
    "def freq_analysis(message):\n",
    "    n = int(len(message))\n",
    "    alphabet = map(chr, range(97, 123))\n",
    "    freq_list = []\n",
    "    for i in message:\n",
    "        for l in alphabet: \n",
    "            temp = 0\n",
    "            temp = float(message.count(l))/n\n",
    "            freq_list.append(temp)\n",
    "        return freq_list\n",
    "    \n",
    "\n",
    "\n",
    "\n",
    "#Tests\n",
    "\n",
    "print (freq_analysis(\"abcd\"))\n",
    "#>>> [0.25, 0.25, 0.25, 0.25, 0.0, ..., 0.0]\n",
    "\n",
    "print( freq_analysis(\"adca\"))\n",
    "#>>> [0.5, 0.0, 0.25, 0.25, 0.0, ..., 0.0]\n",
    "\n",
    "print (freq_analysis('bewarethebunnies'))\n",
    "#>>> [0.0625, 0.125, 0.0, 0.0, ..., 0.0]\n"
   ]
  },
  {
   "cell_type": "code",
   "execution_count": null,
   "metadata": {},
   "outputs": [],
   "source": []
  }
 ],
 "metadata": {
  "kernelspec": {
   "display_name": "Python 3",
   "language": "python",
   "name": "python3"
  },
  "language_info": {
   "codemirror_mode": {
    "name": "ipython",
    "version": 3
   },
   "file_extension": ".py",
   "mimetype": "text/x-python",
   "name": "python",
   "nbconvert_exporter": "python",
   "pygments_lexer": "ipython3",
   "version": "3.7.1"
  }
 },
 "nbformat": 4,
 "nbformat_minor": 2
}
