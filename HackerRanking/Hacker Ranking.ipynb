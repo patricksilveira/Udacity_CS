{
 "cells": [
  {
   "cell_type": "code",
   "execution_count": 10,
   "metadata": {},
   "outputs": [
    {
     "data": {
      "text/plain": [
       "(-2, 1)"
      ]
     },
     "execution_count": 10,
     "metadata": {},
     "output_type": "execute_result"
    }
   ],
   "source": [
    "\"\"\"\n",
    "\n",
    "_/\\      _\n",
    "   \\    /\n",
    "    \\/\\/\n",
    "    \n",
    "DDUUDDUDUUUD\n",
    "    \n",
    "\"\"\"    \n",
    "\n",
    "#!/bin/python3\n",
    "\n",
    "import math\n",
    "import os\n",
    "import random\n",
    "import re\n",
    "import sys\n",
    "\n",
    "# Complete the countingValleys function below.\n",
    "def countingValleys(n, s):\n",
    "    count = 0\n",
    "    valley = 0\n",
    "    for i in s:\n",
    "        if i == 'U':\n",
    "            count += +1\n",
    "            if count == 0:\n",
    "                valley += +1\n",
    "        if i == 'D':\n",
    "            count += -1\n",
    "    return count, valley\n",
    "    \n",
    "\n",
    "\n",
    "\n",
    "countingValleys(8, 'DDUUDDUD')\n"
   ]
  },
  {
   "cell_type": "markdown",
   "metadata": {},
   "source": [
    "Emma is playing a new mobile game that starts with consecutively numbered clouds. Some of the clouds are thunderheads and others are cumulus. She can jump on any cumulus cloud having a number that is equal to the number of the current cloud plus or\n",
    "\n",
    ". She must avoid the thunderheads. Determine the minimum number of jumps it will take Emma to jump from her starting postion to the last cloud. It is always possible to win the game.\n",
    "\n",
    "For each game, Emma will get an array of clouds numbered\n",
    "if they are safe or if they must be avoided. For example, indexed from . The number on each cloud is its index in the list so she must avoid the clouds at indexes and . She could follow the following two paths: or . The first path takes jumps while the second takes .\n",
    "\n",
    "_Sample Input_ \n",
    "7\n",
    "0 0 1 0 0 1 0\n"
   ]
  },
  {
   "cell_type": "code",
   "execution_count": 136,
   "metadata": {},
   "outputs": [
    {
     "name": "stdout",
     "output_type": "stream",
     "text": [
      "0\n",
      "0\n",
      "1\n",
      "0\n",
      "0\n",
      "1\n",
      "0\n"
     ]
    },
    {
     "data": {
      "text/plain": [
       "'0010010'"
      ]
     },
     "execution_count": 136,
     "metadata": {},
     "output_type": "execute_result"
    }
   ],
   "source": [
    "def jumpingOnClouds(c):\n",
    "    counts = []\n",
    "    c = c.strip()\n",
    "    for i in c:\n",
    "        print(i) \n",
    "        jumps_par = []\n",
    "        jumps_triples = []\n",
    "    return c\n",
    "        \n",
    "\n",
    "\n",
    "jumpingOnClouds('0010010')\n",
    "\n",
    "\n",
    "#\n"
   ]
  },
  {
   "cell_type": "code",
   "execution_count": 7,
   "metadata": {},
   "outputs": [
    {
     "name": "stdout",
     "output_type": "stream",
     "text": [
      "14 10\n"
     ]
    }
   ],
   "source": [
    "arr = (1, 2, 3, 4, 5)\n",
    "\n",
    "def miniMaxSum(arr):\n",
    "    miniSum = sum(arr) - min(arr)\n",
    "    maxSum = sum(arr) - max(arr)\n",
    "    print (miniSum, maxSum)\n",
    "\n",
    "miniMaxSum(arr)\n",
    "    \n"
   ]
  },
  {
   "cell_type": "code",
   "execution_count": 22,
   "metadata": {},
   "outputs": [
    {
     "name": "stdout",
     "output_type": "stream",
     "text": [
      "2\n"
     ]
    }
   ],
   "source": [
    "ar = (3, 2, 1, 3)\n",
    "\n",
    "def birthdayCakeCandles(ar):\n",
    "    count = ar.count(max(ar))\n",
    "    print (count)\n",
    "birthdayCakeCandles(ar)"
   ]
  },
  {
   "cell_type": "code",
   "execution_count": null,
   "metadata": {},
   "outputs": [],
   "source": []
  }
 ],
 "metadata": {
  "kernelspec": {
   "display_name": "Python 3",
   "language": "python",
   "name": "python3"
  },
  "language_info": {
   "codemirror_mode": {
    "name": "ipython",
    "version": 3
   },
   "file_extension": ".py",
   "mimetype": "text/x-python",
   "name": "python",
   "nbconvert_exporter": "python",
   "pygments_lexer": "ipython3",
   "version": "3.7.1"
  }
 },
 "nbformat": 4,
 "nbformat_minor": 2
}
