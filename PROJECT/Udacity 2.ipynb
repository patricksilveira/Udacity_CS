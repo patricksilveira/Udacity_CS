{
 "metadata": {
  "language_info": {
   "codemirror_mode": {
    "name": "ipython",
    "version": 3
   },
   "file_extension": ".py",
   "mimetype": "text/x-python",
   "name": "python",
   "nbconvert_exporter": "python",
   "pygments_lexer": "ipython3",
   "version": "3.7.6-final"
  },
  "orig_nbformat": 2,
  "kernelspec": {
   "name": "Python 3.7.6 64-bit ('base': conda)",
   "display_name": "Python 3.7.6 64-bit ('base': conda)",
   "metadata": {
    "interpreter": {
     "hash": "dca0ade3e726a953b501b15e8e990130d2b7799f14cfd9f4271676035ebe5511"
    }
   }
  }
 },
 "nbformat": 4,
 "nbformat_minor": 2,
 "cells": [
  {
   "source": [
    "Recursive Definition\n",
    "\n",
    "Two Parts:\n",
    " 1. Base case - starting point\n",
    "    not defined in terms of itself\n",
    "    smallest input - already know the answer\n",
    "\n",
    "2. Recursive case\n",
    "    - Defined in terms of \"smaller\" version of itself"
   ],
   "cell_type": "code",
   "metadata": {},
   "execution_count": 1,
   "outputs": [
    {
     "output_type": "error",
     "ename": "SyntaxError",
     "evalue": "invalid syntax (<ipython-input-1-6c9608681b29>, line 1)",
     "traceback": [
      "\u001b[0;36m  File \u001b[0;32m\"<ipython-input-1-6c9608681b29>\"\u001b[0;36m, line \u001b[0;32m1\u001b[0m\n\u001b[0;31m    Recursive Definition\u001b[0m\n\u001b[0m                       ^\u001b[0m\n\u001b[0;31mSyntaxError\u001b[0m\u001b[0;31m:\u001b[0m invalid syntax\n"
     ]
    }
   ]
  },
  {
   "cell_type": "code",
   "execution_count": 4,
   "metadata": {},
   "outputs": [
    {
     "output_type": "execute_result",
     "data": {
      "text/plain": [
       "120"
      ]
     },
     "metadata": {},
     "execution_count": 4
    }
   ],
   "source": [
    "def factorial(n):\n",
    "    if n == 0:\n",
    "        return 1\n",
    "    else: \n",
    "        return n * factorial(n-1)\n",
    "\n",
    "factorial(5)\n",
    "    "
   ]
  },
  {
   "cell_type": "code",
   "execution_count": null,
   "metadata": {},
   "outputs": [],
   "source": [
    "#Palindromes\n",
    "\n",
    "def palindrome(n):\n",
    "    if n == \"\": \n",
    "        return True\n",
    "    else: \n",
    "        if n[0] == n[-1]:\n",
    "            return palindrome(s[1:-1])\n",
    "        else:\n",
    "            return false"
   ]
  },
  {
   "cell_type": "code",
   "execution_count": 9,
   "metadata": {},
   "outputs": [
    {
     "output_type": "stream",
     "name": "stdout",
     "text": [
      "['apple', 'banana', 'cherry']\n"
     ]
    }
   ],
   "source": [
    "thislist = [\"apple\", \"banana\", \"cherry\"]\n",
    "print(thislist[::])"
   ]
  },
  {
   "cell_type": "code",
   "execution_count": 11,
   "metadata": {},
   "outputs": [
    {
     "output_type": "stream",
     "name": "stdout",
     "text": [
      "[1, 2, 3, 4, 4, 5, 8, 9]\n"
     ]
    }
   ],
   "source": [
    "import random\n",
    "\n",
    "def quick_sort(A):\n",
    "    if len(A) <= 1:\n",
    "        return A\n",
    "    else:\n",
    "        pivot = A.pop(random.randint(0, len(A)-1))\n",
    "\n",
    "        less, greater = [], [] \n",
    "        for val in A:\n",
    "            if val < pivot:\n",
    "                less.append(val)\n",
    "            else:\n",
    "                greater.append(val)\n",
    "        return quick_sort(less) + [pivot] + quick_sort(greater)\n",
    "\n",
    "A = [3, 4, 5, 8, 9,2 ,1 ,4]\n",
    "\n",
    "print(quick_sort(A))\n",
    "        "
   ]
  },
  {
   "cell_type": "code",
   "execution_count": 14,
   "metadata": {},
   "outputs": [],
   "source": [
    "def list_binary_search(my_list, the_value):\n",
    "    print(my_list)\n",
    "    #indicates whether the_value is in my_list\n",
    "    if len(my_list) == 0:\n",
    "        return False\n",
    "    elif len(my_list) == 1:\n",
    "        return my_list[0] == the_value\n",
    "    else: \n",
    "        mid_index = len(my_list)//2\n",
    "        if the_value < my_list[mid_index]:\n",
    "            new_list = my_list[:mid_index]\n",
    "        else: \n",
    "            new_list = my_list[mid_index:]\n",
    "        return list_binary_search(new_list, the_value)     "
   ]
  },
  {
   "cell_type": "code",
   "execution_count": 15,
   "metadata": {},
   "outputs": [],
   "source": [
    "#https://discussions.udacity.com/t/python-101-unit-6-yet-another-attempt-to-explain-recursion/83570\n",
    "def list_binary_search_depth(my_list, the_value):\n",
    "    print(my_list)\n",
    "\n",
    "# indicates whether the_value is in my_list and how deep we search for it\n",
    "\n",
    "    if len(my_list) == 0:\n",
    "\n",
    "        return [False, 0]\n",
    "\n",
    "    elif len(my_list) == 1:\n",
    "\n",
    "        return [my_list[0] == the_value, 0]\n",
    "\n",
    "    else:\n",
    "\n",
    "        mid_index = len(my_list) // 2\n",
    "\n",
    "        if the_value < my_list[mid_index]:\n",
    "\n",
    "            new_list = my_list[:mid_index]\n",
    "\n",
    "        else:\n",
    "\n",
    "            new_list = my_list[mid_index:]\n",
    "\n",
    "            result, depth = list_binary_search_depth(new_list, the_value)\n",
    "\n",
    "        return ( [result, depth+1] )\n"
   ]
  },
  {
   "cell_type": "code",
   "execution_count": 16,
   "metadata": {},
   "outputs": [],
   "source": [
    "\n",
    "def list_binary_search_where(my_list, the_value, list_first_index = 0):\n",
    "\n",
    "    print(my_list, list_first_index)\n",
    "\n",
    "# indicates whether the_value is in my_list and where it is\n",
    "\n",
    "    if len(my_list) == 0:\n",
    "\n",
    "        return [False, None]\n",
    "\n",
    "    elif len(my_list) == 1:\n",
    "\n",
    "        if my_list[0] != the_value:\n",
    "\n",
    "            return [False, None]\n",
    "\n",
    "        else:\n",
    "\n",
    "            return [True, list_first_index]\n",
    "\n",
    "    else:\n",
    "\n",
    "        mid_index = len(my_list) // 2\n",
    "\n",
    "        if the_value < my_list[mid_index]:\n",
    "\n",
    "            new_list = my_list[:mid_index]\n",
    "\n",
    "            list_first_index += 0\n",
    "\n",
    "        else:\n",
    "\n",
    "            new_list = my_list[mid_index:]\n",
    "\n",
    "            list_first_index += mid_index\n",
    "\n",
    "        return list_binary_search_where(new_list, the_value, list_first_index)\n",
    "\n"
   ]
  },
  {
   "cell_type": "code",
   "execution_count": 18,
   "metadata": {},
   "outputs": [],
   "source": [
    "def list_binary_search_depth_2(my_list, the_value):\n",
    "\n",
    "    print(my_list)\n",
    "\n",
    "# indicates whether the_value is in my_list and how deep we searched for it\n",
    "\n",
    "    if len(my_list) == 0:\n",
    "\n",
    "        return [False, 0]\n",
    "\n",
    "    elif len(my_list) == 1:\n",
    "\n",
    "        return [my_list[0] == the_value, 0]\n",
    "\n",
    "    else:\n",
    "\n",
    "        mid_index = len(my_list) // 2\n",
    "\n",
    "        if the_value == my_list[mid_index]:\n",
    "\n",
    "            return [True, 0]\n",
    "\n",
    "        if the_value < my_list[mid_index]:\n",
    "            new_list = my_list[:mid_index]\n",
    "        else:\n",
    "            new_list = my_list[mid_index+1:]  # we start at mid_index+1 now\n",
    "            result, depth = list_binary_search_depth_2(new_list, the_value)\n",
    "        return ( [result, depth+1] )\n"
   ]
  },
  {
   "cell_type": "code",
   "execution_count": 28,
   "metadata": {},
   "outputs": [
    {
     "output_type": "stream",
     "name": "stdout",
     "text": [
      "1393\n"
     ]
    }
   ],
   "source": [
    "#fibonacci in recursive loop\n",
    "\n",
    "def fibonacci(n):\n",
    "    storage = 0\n",
    "    if n == 0 or n == 1:\n",
    "        return n\n",
    "    while n >= 2:\n",
    "        storage = storage + fibonacci(n-1) + fibonacci(n-2)\n",
    "        n += -1\n",
    "    return storage\n",
    "\n",
    "#fibo(n) = fibo(n-1) + fibo(n-2)\n",
    "\n",
    "#fibo(8) = fibo(8)\n",
    "#fibo(8) = fibo(7) + fibo(6)\n",
    "#fibo(8) = fibo(6) + fibo(5) + fibo(5) + fibo(4)\n",
    "#fibo(8) = fibo(5) + fibo(4) + fibo(4) + fibo(3)\n",
    "\n",
    "# 2 variables = fibo(n-1) and fibo(n-2)\n",
    "\n",
    "#fibo(36 - n + 1) \n",
    "#number_call_fibo(call, fibo)\n",
    "\n",
    "print(fibonacci(10))"
   ]
  },
  {
   "cell_type": "code",
   "execution_count": 41,
   "metadata": {
    "tags": []
   },
   "outputs": [
    {
     "output_type": "stream",
     "name": "stdout",
     "text": [
      "14930352\n119 3311648143516982017180081\n"
     ]
    }
   ],
   "source": [
    "def fibo(n):\n",
    "    current = 0 \n",
    "    after = 1\n",
    "    for i in range(0,n):\n",
    "        current, after = after, current + after\n",
    "    return current\n",
    "\n",
    "print(fibo(36))\n",
    "\n",
    "mass_of_earth = 5.9722 * 10**24 #kg\n",
    "mass_of_rabbit = 2 #kg\n",
    "\n",
    "n = 1 \n",
    "while fibo(n) * mass_of_rabbit < mass_of_earth:\n",
    "    n += 1\n",
    "\n",
    "print(n, fibo(n))\n"
   ]
  },
  {
   "cell_type": "code",
   "execution_count": null,
   "metadata": {},
   "outputs": [],
   "source": [
    "def involved(courses, person):\n",
    "    output = {}\n",
    "    for hexamester in courses: #go through each hexamester\n",
    "        for key in courses[hexamester]:\n",
    "            if courses[hexamester][course][key] == person:\n",
    "                if hexamester in output:\n",
    "                    output[hexamester].append(course)\n",
    "                else: \n",
    "                    output[hexamester] = [course]\n",
    "    return output "
   ]
  },
  {
   "cell_type": "code",
   "execution_count": null,
   "metadata": {},
   "outputs": [],
   "source": [
    "#refactoring teacher\n",
    "# def get_entry(bucket,key):\n",
    "#     for entry in bucket:\n",
    "#         if entry[0] == key:\n",
    "#             return entry\n",
    "#     return None\n",
    "\n",
    "def bucket_find(bucket,key):\n",
    "    for entry in bucket: \n",
    "        if entry[0] == key:\n",
    "            return entry\n",
    "    return None\n",
    "\n",
    "def hashtable_update(htable, key, value):\n",
    "    bucket = hashtable_get_bucket(htable, key)\n",
    "    entry = bucket_find(bucket, key):\n",
    "    if entry:\n",
    "        entry[1] = value\n",
    "    else:\n",
    "        bucket.append([key, value])\n",
    "    \n",
    "\n",
    "def hashtable_lookup(htable, key):\n",
    "    entry = bucket_find(hashtable_get_bucket((htable, key),key)\n",
    "    if entry:\n",
    "        return entry[1]\n",
    "    else:\n",
    "        return None"
   ]
  },
  {
   "cell_type": "code",
   "execution_count": null,
   "metadata": {},
   "outputs": [],
   "source": [
    "def cached_execution(cache, proc, proc_input)\n",
    "#format of the cache {proc_input1:proc_output1, proc_input2:proc_output2, ...}\n",
    "# 1. Check if the input is in the cache or not\n",
    "if proc_input not in cache:\n",
    "    cache[proc_input] = proc(proc_input)\n",
    "return cache[proc_input]\n"
   ]
  },
  {
   "cell_type": "code",
   "execution_count": null,
   "metadata": {},
   "outputs": [],
   "source": [
    "#Dictionary \n",
    "# String Type,     List Type,          Dictionary Type\n",
    "# 'string'        ['list type']      {'key':0, 'key2:value}\n",
    "\n",
    "# s[i],               p[i]                d[key]\n",
    "#  cant             p[i] = x            d[key] = value\n",
    "\n",
    "\n",
    "elements = {'hydrogen':1, 'helium':2, 'carbon':6}\n",
    "elements['lithium'] = 3"
   ]
  },
  {
   "cell_type": "code",
   "execution_count": 42,
   "metadata": {},
   "outputs": [
    {
     "output_type": "error",
     "ename": "NameError",
     "evalue": "name 'friends' is not defined",
     "traceback": [
      "\u001b[0;31m---------------------------------------------------------------------------\u001b[0m",
      "\u001b[0;31mNameError\u001b[0m                                 Traceback (most recent call last)",
      "\u001b[0;32m<ipython-input-42-9133a04162dc>\u001b[0m in \u001b[0;36m<module>\u001b[0;34m\u001b[0m\n\u001b[1;32m      8\u001b[0m         \u001b[0;32mreturn\u001b[0m \u001b[0mscore\u001b[0m\u001b[0;34m\u001b[0m\u001b[0;34m\u001b[0m\u001b[0m\n\u001b[1;32m      9\u001b[0m \u001b[0;34m\u001b[0m\u001b[0m\n\u001b[0;32m---> 10\u001b[0;31m \u001b[0mprint\u001b[0m\u001b[0;34m(\u001b[0m\u001b[0mpopularity\u001b[0m\u001b[0;34m(\u001b[0m\u001b[0;36m5\u001b[0m\u001b[0;34m,\u001b[0m\u001b[0;36m2\u001b[0m\u001b[0;34m)\u001b[0m\u001b[0;34m)\u001b[0m\u001b[0;34m\u001b[0m\u001b[0;34m\u001b[0m\u001b[0m\n\u001b[0m",
      "\u001b[0;32m<ipython-input-42-9133a04162dc>\u001b[0m in \u001b[0;36mpopularity\u001b[0;34m(t, p)\u001b[0m\n\u001b[1;32m      4\u001b[0m     \u001b[0;32melse\u001b[0m\u001b[0;34m:\u001b[0m\u001b[0;34m\u001b[0m\u001b[0;34m\u001b[0m\u001b[0m\n\u001b[1;32m      5\u001b[0m         \u001b[0mscore\u001b[0m \u001b[0;34m=\u001b[0m \u001b[0;36m0\u001b[0m\u001b[0;34m\u001b[0m\u001b[0;34m\u001b[0m\u001b[0m\n\u001b[0;32m----> 6\u001b[0;31m         \u001b[0;32mfor\u001b[0m \u001b[0mf\u001b[0m \u001b[0;32min\u001b[0m \u001b[0mfriends\u001b[0m\u001b[0;34m(\u001b[0m\u001b[0mp\u001b[0m\u001b[0;34m)\u001b[0m\u001b[0;34m:\u001b[0m\u001b[0;34m\u001b[0m\u001b[0;34m\u001b[0m\u001b[0m\n\u001b[0m\u001b[1;32m      7\u001b[0m             \u001b[0mscore\u001b[0m \u001b[0;34m=\u001b[0m \u001b[0mscore\u001b[0m \u001b[0;34m+\u001b[0m \u001b[0mpopularity\u001b[0m\u001b[0;34m(\u001b[0m\u001b[0mt\u001b[0m\u001b[0;34m-\u001b[0m\u001b[0;36m1\u001b[0m\u001b[0;34m,\u001b[0m\u001b[0mf\u001b[0m\u001b[0;34m)\u001b[0m\u001b[0;34m\u001b[0m\u001b[0;34m\u001b[0m\u001b[0m\n\u001b[1;32m      8\u001b[0m         \u001b[0;32mreturn\u001b[0m \u001b[0mscore\u001b[0m\u001b[0;34m\u001b[0m\u001b[0;34m\u001b[0m\u001b[0m\n",
      "\u001b[0;31mNameError\u001b[0m: name 'friends' is not defined"
     ]
    }
   ],
   "source": [
    "def popularity(t, p):\n",
    "    if t == 0:\n",
    "        return 1 \n",
    "    else:\n",
    "        score = 0\n",
    "        for f in friends(p):\n",
    "            score = score + popularity(t-1,f)\n",
    "        return score\n",
    "\n",
    "print(popularity(5,2))\n"
   ]
  },
  {
   "cell_type": "code",
   "execution_count": null,
   "metadata": {},
   "outputs": [],
   "source": []
  }
 ]
}